{
 "cells": [
  {
   "cell_type": "code",
   "execution_count": null,
   "id": "6d8b9339-1f2b-438f-8690-5bb53d5b68c6",
   "metadata": {},
   "outputs": [],
   "source": [
    "%matplotlib inline\n",
    "\n",
    "import collections\n",
    "import time\n",
    "from datetime import datetime\n",
    "\n",
    "import numpy as np\n",
    "import psutil\n",
    "from IPython.display import clear_output\n",
    "from matplotlib import pyplot as plt\n",
    "\n",
    "plt.style.use(\"ggplot\")"
   ]
  },
  {
   "cell_type": "code",
   "execution_count": null,
   "id": "bca13526-2862-4ae1-a0da-5cee0b0d9ae2",
   "metadata": {
    "tags": []
   },
   "outputs": [],
   "source": [
    "def live_plot(data_dict, figsize=(7, 5)):\n",
    "    clear_output(wait=True)\n",
    "    plt.figure(figsize=figsize)\n",
    "    plt.plot(data_dict[\"Datetime\"], data_dict[\"CPU (%)\"], label=\"CPU (%)\")\n",
    "    plt.plot(data_dict[\"Datetime\"], data_dict[\"Memory (%)\"], label=\"Memory (%)\")\n",
    "    plt.title(\"CPU and memory usage (%)\")\n",
    "    plt.legend(loc=\"upper left\")\n",
    "    plt.ylim((0, 100))\n",
    "    plt.xticks(rotation=45, ha=\"right\")\n",
    "    plt.show();"
   ]
  },
  {
   "cell_type": "markdown",
   "id": "f2ed8e2d-0fe4-44b5-8d55-9aa091b2d01b",
   "metadata": {},
   "source": [
    "# Simple Python resource monitor\n",
    "\n",
    " * Set the `update_freq` parameter below to specify how often you want the plot to update\n",
    " \n",
    " * Choose `Kernel > Restart and run all cells` from the JupyterLab menu to start plotting\n",
    " \n",
    " * Choose `Kernel > Interrupt kernel` to stop plotting (make sure you have this notebook selected and not the one running your code, otherwise you'll accidentally cancel your processing task!)"
   ]
  },
  {
   "cell_type": "code",
   "execution_count": null,
   "id": "11bb3dd6-3959-4c53-8f05-1152c70c835f",
   "metadata": {},
   "outputs": [],
   "source": [
    "# Frequency to update plot (seconds)\n",
    "update_freq = 1"
   ]
  },
  {
   "cell_type": "code",
   "execution_count": null,
   "id": "62141bbd-8624-4a17-b4c2-cc2161b79790",
   "metadata": {
    "tags": []
   },
   "outputs": [],
   "source": [
    "data = collections.defaultdict(list)\n",
    "while True:\n",
    "    data[\"Datetime\"].append(datetime.now())\n",
    "    data[\"CPU (%)\"].append(psutil.cpu_percent())\n",
    "    data[\"Memory (%)\"].append(psutil.virtual_memory().percent)\n",
    "    time.sleep(update_freq)\n",
    "    live_plot(data)"
   ]
  }
 ],
 "metadata": {
  "kernelspec": {
   "display_name": "Python 3 (ipykernel)",
   "language": "python",
   "name": "python3"
  },
  "language_info": {
   "codemirror_mode": {
    "name": "ipython",
    "version": 3
   },
   "file_extension": ".py",
   "mimetype": "text/x-python",
   "name": "python",
   "nbconvert_exporter": "python",
   "pygments_lexer": "ipython3",
   "version": "3.10.10"
  }
 },
 "nbformat": 4,
 "nbformat_minor": 5
}
