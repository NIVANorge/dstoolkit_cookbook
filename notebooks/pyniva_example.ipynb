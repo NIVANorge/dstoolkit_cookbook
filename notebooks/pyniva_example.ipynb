{
 "cells": [
  {
   "cell_type": "code",
   "execution_count": 1,
   "metadata": {},
   "outputs": [],
   "source": [
    "import matplotlib.pyplot as plt\n",
    "from pyniva import PUB_META, PUB_TSB, Vessel, token2header\n",
    "\n",
    "plt.style.use(\"ggplot\")"
   ]
  },
  {
   "cell_type": "markdown",
   "metadata": {},
   "source": [
    "# Data access using pyniva\n",
    "\n",
    "*Notebook contributed by Zofia Rudjord*\n",
    "\n",
    "This is an example demonstrating how to get data from **nivacloud** using **pyniva** and plot them. The pyniva package is already installed on the JupyterHub and a common access token for all users is stored on the `shared` drive. Eventually, we may switch to personal/individual access tokens, but for now all users of the JupyterHub can use the same shared token, as illustrated in the code below.\n",
    "\n",
    "Here is how you start:"
   ]
  },
  {
   "cell_type": "code",
   "execution_count": 2,
   "metadata": {},
   "outputs": [],
   "source": [
    "path_to_token = \"/home/jovyan/shared/01_datasets/tokens/niva-service-account.json\"\n",
    "HEADER = token2header(path_to_token)"
   ]
  },
  {
   "cell_type": "markdown",
   "metadata": {},
   "source": [
    "To check which Vessels have associated data:"
   ]
  },
  {
   "cell_type": "code",
   "execution_count": 3,
   "metadata": {},
   "outputs": [
    {
     "name": "stdout",
     "output_type": "stream",
     "text": [
      "FA\n",
      "NB\n",
      "Survey_2019_test/Waveglider_1\n",
      "Survey_2019_04/SB_Echo\n",
      "NO\n",
      "Survey_2018_03/Waveglider_1\n",
      "Survey_2019_04/Waveglider_1\n",
      "TF\n",
      "Survey_2018_03/SeaGlider_1\n",
      "Survey_2019_04/SeaGlider_1\n",
      "RA\n",
      "Survey_2018_03/SB_Echo\n",
      "Survey_2019_04_test/SB_Echo\n",
      "SYNTH_FA\n",
      "Survey_2019_04_test/SeaGlider_1\n"
     ]
    }
   ],
   "source": [
    "boat = [v for v in Vessel.list(PUB_META, header=HEADER)]\n",
    "print(*[b.path for b in boat], sep=\"\\n\")"
   ]
  },
  {
   "cell_type": "markdown",
   "metadata": {},
   "source": [
    "To see which data exists for Color Fantasy "
   ]
  },
  {
   "cell_type": "code",
   "execution_count": 4,
   "metadata": {},
   "outputs": [
    {
     "name": "stdout",
     "output_type": "stream",
     "text": [
      "FA/GYRO/HEADING\n",
      "FA/ferrybox/INLET/OPTODE/TEMPERATURE/ARGO_SPIKE_TEST\n",
      "FA/ferrybox/INLET/OPTODE/TEMPERATURE/LOCAL_RANGE_TEST\n",
      "FA/ferrybox/INLET/OPTODE/TEMPERATURE/GLOBAL_RANGE_TEST\n",
      "FA/ferrybox/INLET/OPTODE/TEMPERATURE/FROZEN_TEST\n",
      "FA/ferrybox/INLET/OPTODE/TEMPERATURE\n",
      "FA/ferrybox/SYSTEM/INVERTER/OUTPUTS\n",
      "FA/ferrybox/C3/CDOM_FLUORESCENCE/RAW/FROZEN_TEST\n",
      "FA/ferrybox/C3/CDOM_FLUORESCENCE/RAW\n",
      "FA/ferrybox/TRIOS/PAH_FLUORESCENCE/RAW\n"
     ]
    }
   ],
   "source": [
    "platform_code = \"FA\"\n",
    "first_n_measurements = 10  # = -1 will list all measurments\n",
    "FA = [v for v in boat if v.path == platform_code][0]\n",
    "measurements = FA.get_all_tseries(PUB_META, header=HEADER)\n",
    "print(*[m.path for m in measurements][:first_n_measurements], sep=\"\\n\")"
   ]
  },
  {
   "cell_type": "markdown",
   "metadata": {},
   "source": [
    "To get raw chlorophyll data for May-Jul 2019 ( note noqc = True setting in order to get all data without quality control)"
   ]
  },
  {
   "cell_type": "code",
   "execution_count": 5,
   "metadata": {},
   "outputs": [
    {
     "ename": "NameError",
     "evalue": "name 'data' is not defined",
     "output_type": "error",
     "traceback": [
      "\u001b[0;31m---------------------------------------------------------------------------\u001b[0m",
      "\u001b[0;31mNameError\u001b[0m                                 Traceback (most recent call last)",
      "\u001b[0;32m<ipython-input-5-b0069d87fd77>\u001b[0m in \u001b[0;36m<module>\u001b[0;34m\u001b[0m\n\u001b[1;32m     13\u001b[0m         )\n\u001b[1;32m     14\u001b[0m \u001b[0;34m\u001b[0m\u001b[0m\n\u001b[0;32m---> 15\u001b[0;31m \u001b[0mprint\u001b[0m\u001b[0;34m(\u001b[0m\u001b[0mdata\u001b[0m\u001b[0;34m)\u001b[0m\u001b[0;34m\u001b[0m\u001b[0;34m\u001b[0m\u001b[0m\n\u001b[0m",
      "\u001b[0;31mNameError\u001b[0m: name 'data' is not defined"
     ]
    }
   ],
   "source": [
    "start_time = \"2019-05-01T00:00:00\"\n",
    "end_time = \"2019-07-31T00:00:00\"\n",
    "path = platform_code + \"/ferrybox/CHLA_FLUORESCENCE/ADJUSTED\"\n",
    "for m in measurements:\n",
    "    if m.path == path:\n",
    "        data = m.get_tseries(\n",
    "            PUB_TSB,\n",
    "            header=HEADER,\n",
    "            noqc=True,\n",
    "            dt=0,\n",
    "            start_time=start_time,\n",
    "            end_time=end_time,\n",
    "        )\n",
    "\n",
    "print(data)"
   ]
  },
  {
   "cell_type": "markdown",
   "metadata": {},
   "source": [
    "To plot the data"
   ]
  },
  {
   "cell_type": "code",
   "execution_count": null,
   "metadata": {},
   "outputs": [],
   "source": [
    "plt.plot(data, color=\"k\", label=\"raw data\")\n",
    "plt.gcf().autofmt_xdate()\n",
    "plt.ylabel(\"chla_fluoresence_raw\", fontsize=16)\n",
    "plt.show()"
   ]
  }
 ],
 "metadata": {
  "kernelspec": {
   "display_name": "Python 3",
   "language": "python",
   "name": "python3"
  },
  "language_info": {
   "codemirror_mode": {
    "name": "ipython",
    "version": 3
   },
   "file_extension": ".py",
   "mimetype": "text/x-python",
   "name": "python",
   "nbconvert_exporter": "python",
   "pygments_lexer": "ipython3",
   "version": "3.8.6"
  }
 },
 "nbformat": 4,
 "nbformat_minor": 4
}
