{
 "cells": [
  {
   "cell_type": "code",
   "execution_count": 1,
   "metadata": {},
   "outputs": [
    {
     "name": "stderr",
     "output_type": "stream",
     "text": [
      "/opt/conda/lib/python3.8/site-packages/geopandas/_compat.py:106: UserWarning: The Shapely GEOS version (3.8.0-CAPI-1.13.1 ) is incompatible with the GEOS version PyGEOS was compiled with (3.9.0-CAPI-1.16.2). Conversions between both will be slow.\n",
      "  warnings.warn(\n"
     ]
    }
   ],
   "source": [
    "import os\n",
    "import shutil\n",
    "\n",
    "import geopandas as gpd\n",
    "import nivapy3 as nivapy"
   ]
  },
  {
   "cell_type": "markdown",
   "metadata": {},
   "source": [
    "# Create GIS data package\n",
    "\n",
    "Creates a package of GIS data layers clipped to a specified bounding box. Fill-in section 1 below and then run all cells."
   ]
  },
  {
   "cell_type": "markdown",
   "metadata": {},
   "source": [
    "## 1. User input"
   ]
  },
  {
   "cell_type": "code",
   "execution_count": 2,
   "metadata": {},
   "outputs": [],
   "source": [
    "# Path to boundng box\n",
    "bbox_path = \"../examples/data_package/bounding_box.shp\"\n",
    "\n",
    "# Output folder\n",
    "out_fold = \"../examples/data_package\"\n",
    "\n",
    "# Zip arhive to create (omit .zip extension)\n",
    "# NOT the same as 'out_fold'\n",
    "zip_path = \"../examples/glitre_gis\"\n",
    "\n",
    "# Vector layers of interest\n",
    "# See https://github.com/NIVANorge/niva_jupyter_hub/blob/master/postgis_db/postgis_db_dataset_summary.md\n",
    "vec_layers = [\n",
    "    \"physical.norway_nibio_corine_2018_poly\",\n",
    "    \"physical.norway_nve_elvis_river_network_line\",\n",
    "    \"physical.norway_nve_innsjo_poly\",\n",
    "]\n",
    "\n",
    "# Raster layers of interest\n",
    "# See shared/01_datasets/spatial\n",
    "ras_layers = [\n",
    "    r\"/home/jovyan/shared/01_datasets/spatial/norway_kartverket_50m_dem.tif\",\n",
    "    r\"/home/jovyan/shared/01_datasets/spatial/norway_kartverket_50m_hillshade.tif\",\n",
    "]"
   ]
  },
  {
   "cell_type": "markdown",
   "metadata": {},
   "source": [
    "## 2. Read bounding box"
   ]
  },
  {
   "cell_type": "code",
   "execution_count": 3,
   "metadata": {},
   "outputs": [],
   "source": [
    "# Read clip features\n",
    "bb_gdf = gpd.read_file(bbox_path)"
   ]
  },
  {
   "cell_type": "markdown",
   "metadata": {},
   "source": [
    "## 3. Clip vector layers\n",
    "\n",
    "Layers list [here](https://github.com/NIVANorge/niva_jupyter_hub/blob/master/postgis_db/postgis_db_dataset_summary.md)."
   ]
  },
  {
   "cell_type": "code",
   "execution_count": 4,
   "metadata": {},
   "outputs": [
    {
     "name": "stdout",
     "output_type": "stream",
     "text": [
      "Connection successful.\n"
     ]
    }
   ],
   "source": [
    "# Connect to PostGIS\n",
    "eng = nivapy.da.connect_postgis()"
   ]
  },
  {
   "cell_type": "code",
   "execution_count": 5,
   "metadata": {},
   "outputs": [
    {
     "name": "stdout",
     "output_type": "stream",
     "text": [
      "Processing: physical.norway_nibio_corine_2018_poly\n",
      "WARNING: The projection of 'clip' differs from the target dataset.\n",
      "Converting to the projection of target dataset (epsg:32633)\n",
      "Processing: physical.norway_nve_elvis_river_network_line\n",
      "WARNING: The projection of 'clip' differs from the target dataset.\n",
      "Converting to the projection of target dataset (epsg:32633)\n",
      "Processing: physical.norway_nve_innsjo_poly\n"
     ]
    },
    {
     "name": "stderr",
     "output_type": "stream",
     "text": [
      "<ipython-input-5-cae4ed073ccb>:16: UserWarning: Column names longer than 10 characters will be truncated when saved to ESRI Shapefile.\n",
      "  gdf.to_file(out_shp)\n"
     ]
    }
   ],
   "source": [
    "# Loop over layers\n",
    "for layer in vec_layers:\n",
    "    print(f\"Processing: {layer}\")\n",
    "\n",
    "    # Read layer, clipping to bounding box\n",
    "    schema, table = layer.split(\".\")\n",
    "    gdf = nivapy.da.read_postgis(\n",
    "        schema,\n",
    "        table,\n",
    "        eng,\n",
    "        clip=bb_gdf,\n",
    "    )\n",
    "\n",
    "    # Save\n",
    "    out_shp = os.path.join(out_fold, f\"{table}.shp\")\n",
    "    gdf.to_file(out_shp)"
   ]
  },
  {
   "cell_type": "markdown",
   "metadata": {},
   "source": [
    "## 4. Clip raster layers"
   ]
  },
  {
   "cell_type": "code",
   "execution_count": 6,
   "metadata": {},
   "outputs": [
    {
     "name": "stdout",
     "output_type": "stream",
     "text": [
      "Processing: /home/jovyan/shared/01_datasets/spatial/norway_kartverket_50m_dem.tif\n",
      "WARNING: The projection of 'clip' differs from the target dataset.\n",
      "Converting to the projection of target dataset ({'proj': 'utm', 'zone': 33, 'ellps': 'GRS80', 'units': 'm', 'no_defs': True})\n",
      "Processing: /home/jovyan/shared/01_datasets/spatial/norway_kartverket_50m_hillshade.tif\n",
      "WARNING: The projection of 'clip' differs from the target dataset.\n",
      "Converting to the projection of target dataset ({'proj': 'utm', 'zone': 33, 'ellps': 'GRS80', 'units': 'm', 'no_defs': True})\n"
     ]
    }
   ],
   "source": [
    "# Loop over layers\n",
    "for layer in ras_layers:\n",
    "    print(f\"Processing: {layer}\")\n",
    "\n",
    "    # Read layer, clipping to bounding box\n",
    "    fname = os.path.split(layer)[1]\n",
    "    out_gtiff = os.path.join(out_fold, fname)\n",
    "    nivapy.spatial.clip_raster_to_gdf(\n",
    "        layer,\n",
    "        out_gtiff,\n",
    "        bb_gdf,\n",
    "        bounding_box=True,\n",
    "    )"
   ]
  },
  {
   "cell_type": "markdown",
   "metadata": {},
   "source": [
    "## 5. Create `.zip` archive"
   ]
  },
  {
   "cell_type": "code",
   "execution_count": 7,
   "metadata": {},
   "outputs": [
    {
     "data": {
      "text/plain": [
       "'/home/jovyan/development/dstoolkit_cookbook/examples/glitre_gis.zip'"
      ]
     },
     "execution_count": 7,
     "metadata": {},
     "output_type": "execute_result"
    }
   ],
   "source": [
    "shutil.make_archive(zip_path, \"zip\", out_fold)"
   ]
  }
 ],
 "metadata": {
  "kernelspec": {
   "display_name": "Python 3",
   "language": "python",
   "name": "python3"
  },
  "language_info": {
   "codemirror_mode": {
    "name": "ipython",
    "version": 3
   },
   "file_extension": ".py",
   "mimetype": "text/x-python",
   "name": "python",
   "nbconvert_exporter": "python",
   "pygments_lexer": "ipython3",
   "version": "3.8.6"
  }
 },
 "nbformat": 4,
 "nbformat_minor": 4
}
