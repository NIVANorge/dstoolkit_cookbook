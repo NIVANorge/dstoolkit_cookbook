{
 "cells": [
  {
   "cell_type": "code",
   "execution_count": 1,
   "metadata": {},
   "outputs": [
    {
     "data": {
      "application/javascript": [
       "MathJax.Hub.Config({\n",
       "    TeX: { equationNumbers: { autoNumber: \"AMS\" } }\n",
       "});\n"
      ],
      "text/plain": [
       "<IPython.core.display.Javascript object>"
      ]
     },
     "metadata": {},
     "output_type": "display_data"
    }
   ],
   "source": [
    "%%javascript\n",
    "MathJax.Hub.Config({\n",
    "    TeX: { equationNumbers: { autoNumber: \"AMS\" } }\n",
    "});"
   ]
  },
  {
   "cell_type": "markdown",
   "metadata": {},
   "source": [
    "# Equation numbering in Jupyter notebooks\n",
    "\n",
    "Options are described [here](https://stackoverflow.com/a/42940005/505698). The simples seems to be to execute the JavaScript above, then use the syntax\n",
    "\n",
    "    \\begin{equation}\n",
    "    y = mx + c\n",
    "    \\end{equation}\n",
    "\n",
    "to define \"centred\"/numbered equations, as shown below. Inline equations without numbers can still be defined using `$` symbols, e.g. $e = mc^2$.\n",
    "\n",
    "\\begin{equation}\n",
    "y = mx + c\n",
    "\\end{equation}\n",
    "\n",
    "\\begin{equation}\n",
    "E = F \\cdot s \n",
    "\\end{equation}"
   ]
  }
 ],
 "metadata": {
  "kernelspec": {
   "display_name": "Python 3",
   "language": "python",
   "name": "python3"
  },
  "language_info": {
   "codemirror_mode": {
    "name": "ipython",
    "version": 3
   },
   "file_extension": ".py",
   "mimetype": "text/x-python",
   "name": "python",
   "nbconvert_exporter": "python",
   "pygments_lexer": "ipython3",
   "version": "3.8.5"
  }
 },
 "nbformat": 4,
 "nbformat_minor": 4
}
