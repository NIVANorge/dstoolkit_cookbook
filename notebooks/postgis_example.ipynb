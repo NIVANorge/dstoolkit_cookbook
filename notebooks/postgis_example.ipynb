{
 "cells": [
  {
   "cell_type": "code",
   "execution_count": null,
   "metadata": {},
   "outputs": [],
   "source": [
    "%matplotlib inline\n",
    "\n",
    "import os\n",
    "import nivapy3 as nivapy\n",
    "import pandas as pd\n",
    "import geopandas as gpd\n",
    "import rasterio\n",
    "import cmocean\n",
    "import matplotlib.pyplot as plt\n",
    "from rasterio.plot import show\n",
    "\n",
    "plt.style.use('ggplot')"
   ]
  },
  {
   "cell_type": "markdown",
   "metadata": {},
   "source": [
    "# DSToolkit PostGIS integration: accessing commonly used spatial datasets\n",
    "\n",
    "This notebook provides a brief illustration of how to access spatial data via the DSToolkit. This functionality is very new/experimental - **feedback appreciated**! More detailed tutorials will be made available when I have time... :-)\n",
    "\n",
    "**Note:** If you're looking for data so you can make maps using conventional desktop GIS (e.g. ArcGIS or QGIS), please see also the notebook `create_gis_package.ipynb`, which creates a data package (`.zip` archive) for your area of interest."
   ]
  },
  {
   "cell_type": "markdown",
   "metadata": {},
   "source": [
    "## 1. Connect to database"
   ]
  },
  {
   "cell_type": "code",
   "execution_count": null,
   "metadata": {},
   "outputs": [],
   "source": [
    "eng = nivapy.da.connect_postgis()"
   ]
  },
  {
   "cell_type": "markdown",
   "metadata": {},
   "source": [
    "## 2. Get fylke boundaries\n",
    "\n",
    "List of layers is [here](https://github.com/NIVANorge/niva_jupyter_hub/blob/master/postgis_db/postgis_db_dataset_summary.md)."
   ]
  },
  {
   "cell_type": "code",
   "execution_count": null,
   "metadata": {},
   "outputs": [],
   "source": [
    "# Read fylker\n",
    "fyl_gdf = nivapy.da.read_postgis('cultural', 'norway_kartverket_fylker_2019_poly', eng)\n",
    "fyl_gdf"
   ]
  },
  {
   "cell_type": "code",
   "execution_count": null,
   "metadata": {},
   "outputs": [],
   "source": [
    "# Plot\n",
    "fyl_gdf.plot(facecolor='white', \n",
    "              edgecolor='black', \n",
    "              figsize=(10,10),\n",
    "             )"
   ]
  },
  {
   "cell_type": "code",
   "execution_count": null,
   "metadata": {},
   "outputs": [],
   "source": [
    "# Focus on Aust-Agder\n",
    "clip_gdf = fyl_gdf.query('fylkes_num == 9')\n",
    "\n",
    "# Plot\n",
    "clip_gdf.plot(facecolor='white', \n",
    "              edgecolor='black', \n",
    "              figsize=(10,10),\n",
    "             )"
   ]
  },
  {
   "cell_type": "markdown",
   "metadata": {},
   "source": [
    "## 3. Extract CORINE land cover (2018)"
   ]
  },
  {
   "cell_type": "code",
   "execution_count": null,
   "metadata": {},
   "outputs": [],
   "source": [
    "# Read CORINE-2018 land cover, clipping to the specified fylke\n",
    "gdf = nivapy.da.read_postgis('physical', \n",
    "                             'norway_nibio_corine_2018_poly', \n",
    "                             eng, \n",
    "                             clip=clip_gdf,\n",
    "                            )\n",
    "\n",
    "gdf.head()"
   ]
  },
  {
   "cell_type": "code",
   "execution_count": null,
   "metadata": {},
   "outputs": [],
   "source": [
    "# Get top level class\n",
    "gdf['main_class'] = gdf['klasse'].str[:3]\n",
    "\n",
    "# Plot\n",
    "fig, ax = plt.subplots(nrows=1, ncols=1, figsize=(10,10))\n",
    "\n",
    "gdf.plot(column='main_class', \n",
    "         legend=True, \n",
    "         legend_kwds={'bbox_to_anchor':(1.2, 1)},\n",
    "         ax=ax,\n",
    "        )\n",
    "\n",
    "clip_gdf.plot(edgecolor='k', \n",
    "              facecolor='none', \n",
    "              ax=ax,\n",
    "              lw=2\n",
    "             )"
   ]
  },
  {
   "cell_type": "markdown",
   "metadata": {},
   "source": [
    "## 4. Extract 50 m DEM and hillshade"
   ]
  },
  {
   "cell_type": "code",
   "execution_count": null,
   "metadata": {},
   "outputs": [],
   "source": [
    "# Clip raster to fylke\n",
    "ras_list = [\n",
    "            r'/home/jovyan/shared/01_datasets/spatial/norway_kartverket_50m_dem.tif',\n",
    "            r'/home/jovyan/shared/01_datasets/spatial/norway_kartverket_50m_hillshade.tif',\n",
    "           ]\n",
    "\n",
    "for ras_path in ras_list:\n",
    "    out_gtiff = os.path.split(ras_path)[1]\n",
    "    out_gtiff = os.path.join('../examples/raster', out_gtiff)\n",
    "    \n",
    "    nivapy.spatial.clip_raster_to_gdf(ras_path,\n",
    "                                      out_gtiff,\n",
    "                                      clip_gdf,\n",
    "                                      bounding_box=True,\n",
    "                                     )\n",
    "\n",
    "# Plot clipped version\n",
    "dem = rasterio.open('../examples/raster/norway_kartverket_50m_dem.tif')\n",
    "hil = rasterio.open('../examples/raster/norway_kartverket_50m_hillshade.tif')\n",
    "    \n",
    "fig, ax = plt.subplots(figsize=(10,10))\n",
    "    \n",
    "# Plot\n",
    "cmap = cmocean.tools.crop_by_percent(cmocean.cm.topo, 50, which='min', N=None)\n",
    "show(dem, ax=ax, cmap=cmap)\n",
    "show(hil, ax=ax, alpha=0.6, cmap='gray')\n",
    "    \n",
    "# Plot mask\n",
    "clip_gdf.plot(edgecolor='k', \n",
    "              facecolor='none', \n",
    "              ax=ax,\n",
    "              lw=2\n",
    "             )\n",
    "\n",
    "dem.close()\n",
    "hil.close()"
   ]
  }
 ],
 "metadata": {
  "kernelspec": {
   "display_name": "Python 3",
   "language": "python",
   "name": "python3"
  },
  "language_info": {
   "codemirror_mode": {
    "name": "ipython",
    "version": 3
   },
   "file_extension": ".py",
   "mimetype": "text/x-python",
   "name": "python",
   "nbconvert_exporter": "python",
   "pygments_lexer": "ipython3",
   "version": "3.7.6"
  }
 },
 "nbformat": 4,
 "nbformat_minor": 4
}
